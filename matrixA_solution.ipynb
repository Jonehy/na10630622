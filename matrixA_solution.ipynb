{
  "nbformat": 4,
  "nbformat_minor": 0,
  "metadata": {
    "colab": {
      "name": "matrixA_solution.ipynb",
      "version": "0.3.2",
      "provenance": [],
      "collapsed_sections": []
    },
    "kernelspec": {
      "name": "python3",
      "display_name": "Python 3"
    }
  },
  "cells": [
    {
      "metadata": {
        "id": "k-VHhdZIPrXr",
        "colab_type": "code",
        "colab": {}
      },
      "cell_type": "code",
      "source": [
        "import numpy as np\n",
        "from numpy.linalg import inv"
      ],
      "execution_count": 0,
      "outputs": []
    },
    {
      "metadata": {
        "id": "EfBkKo3WP1Ak",
        "colab_type": "code",
        "colab": {}
      },
      "cell_type": "code",
      "source": [
        "a = np.array([[3., 2.,-1.],[2.,-2.,4.],[-1,1/2,-1]])\n",
        "b = np.array([1.,-2.,0.])"
      ],
      "execution_count": 0,
      "outputs": []
    },
    {
      "metadata": {
        "id": "zsavK2lYQMOw",
        "colab_type": "code",
        "colab": {
          "base_uri": "https://localhost:8080/",
          "height": 85
        },
        "outputId": "5325b0aa-e3c3-46b2-d7d2-c1a03ba39869"
      },
      "cell_type": "code",
      "source": [
        "print(a)\n",
        "print(b)"
      ],
      "execution_count": 67,
      "outputs": [
        {
          "output_type": "stream",
          "text": [
            "[[ 3.   2.  -1. ]\n",
            " [ 2.  -2.   4. ]\n",
            " [-1.   0.5 -1. ]]\n",
            "[ 1. -2.  0.]\n"
          ],
          "name": "stdout"
        }
      ]
    },
    {
      "metadata": {
        "id": "fKy_Ak5oQmhg",
        "colab_type": "code",
        "colab": {
          "base_uri": "https://localhost:8080/",
          "height": 68
        },
        "outputId": "b91273a0-fa83-4dfa-b83e-05661801566f"
      },
      "cell_type": "code",
      "source": [
        "a_inv=inv(a)\n",
        "a_inv"
      ],
      "execution_count": 68,
      "outputs": [
        {
          "output_type": "execute_result",
          "data": {
            "text/plain": [
              "array([[ 1.48029737e-16, -5.00000000e-01, -2.00000000e+00],\n",
              "       [ 6.66666667e-01,  1.33333333e+00,  4.66666667e+00],\n",
              "       [ 3.33333333e-01,  1.16666667e+00,  3.33333333e+00]])"
            ]
          },
          "metadata": {
            "tags": []
          },
          "execution_count": 68
        }
      ]
    },
    {
      "metadata": {
        "id": "dMwnKXFDRIxH",
        "colab_type": "code",
        "colab": {
          "base_uri": "https://localhost:8080/",
          "height": 34
        },
        "outputId": "94102df0-37f7-4b07-e856-d08fc04a1ced"
      },
      "cell_type": "code",
      "source": [
        "A_=np.linalg.det(a)\n",
        "print(A_)"
      ],
      "execution_count": 69,
      "outputs": [
        {
          "output_type": "stream",
          "text": [
            "-3.0000000000000036\n"
          ],
          "name": "stdout"
        }
      ]
    },
    {
      "metadata": {
        "id": "5D51xZfiRYkO",
        "colab_type": "code",
        "colab": {
          "base_uri": "https://localhost:8080/",
          "height": 34
        },
        "outputId": "52bbd5be-02ca-4cac-fb9e-de9a0da0177d"
      },
      "cell_type": "code",
      "source": [
        "np.dot(a_inv,b)"
      ],
      "execution_count": 74,
      "outputs": [
        {
          "output_type": "execute_result",
          "data": {
            "text/plain": [
              "array([ 1., -2., -2.])"
            ]
          },
          "metadata": {
            "tags": []
          },
          "execution_count": 74
        }
      ]
    },
    {
      "metadata": {
        "id": "ZBwbOLBKR8Kf",
        "colab_type": "code",
        "colab": {}
      },
      "cell_type": "code",
      "source": [
        "#====================================================================================================="
      ],
      "execution_count": 0,
      "outputs": []
    },
    {
      "metadata": {
        "id": "JRZ1II4_Zkln",
        "colab_type": "code",
        "colab": {
          "base_uri": "https://localhost:8080/",
          "height": 34
        },
        "outputId": "c9375f0a-d9b9-4052-85f0-144f6f1fa758"
      },
      "cell_type": "code",
      "source": [
        "z=np.linalg.solve(a,b)\n",
        "print(z)"
      ],
      "execution_count": 73,
      "outputs": [
        {
          "output_type": "stream",
          "text": [
            "[ 1. -2. -2.]\n"
          ],
          "name": "stdout"
        }
      ]
    }
  ]
}