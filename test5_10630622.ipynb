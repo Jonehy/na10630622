{
 "cells": [
  {
   "cell_type": "markdown",
   "metadata": {},
   "source": [
    "Problem:\n",
    "Give Function $$ f(x)=x^2$$ "
   ]
  },
  {
   "cell_type": "markdown",
   "metadata": {},
   "source": [
    "$$ [0,2], n=4 $$"
   ]
  },
  {
   "cell_type": "markdown",
   "metadata": {},
   "source": [
    "Let $ f(x)=x^2:[0,2]\\rightarrow R $ be a function defined on a closed interval $ [0,2] $ of the real numbers, $R$ , and\n",
    "$$ P=\\left\\{[x_{0},x_{1}],[x_{1},x_{2}],[x_{2},x_{3},[x_{3},x_{4}]\\right\\}$$,\n",
    "be a partition of I, where\n",
    "$$a=x_{0}<x_{1}<x_{2}<\\cdots <x_{4}=b$$.\n",
    "A Riemann sum $S$ of $f$ over $I$ with partition $P$ is defined as\n",
    "$$ S=\\sum _{i=0}^{4}f(x_{i}^{2})\\,\\Delta x_{i} $$\n",
    "where $\\Delta x_{i}=x_{i}-x_{i-1}  \\Delta x_{i}=x_{i}-x_{i-1}$ and an $ x_{i}^{*}\\in [x_{i-1},x_{i}]$, the choice of $x_{i}^{*}$ in the interval $ [x_{i-1},x_{i}]$ is arbitrary,."
   ]
  },
  {
   "cell_type": "code",
   "execution_count": 12,
   "metadata": {
    "scrolled": true
   },
   "outputs": [
    {
     "data": {
      "image/png": "[encoded data removed]",
      "text/plain": [
       "<matplotlib.figure.Figure at 0x82f1898>"
      ]
     },
     "metadata": {},
     "output_type": "display_data"
    }
   ],
   "source": [
    "import numpy as np\n",
    "import matplotlib.pyplot as plt\n",
    "x = np.linspace(-3, 3, 50)\n",
    "x\n",
    "y = x**2\n",
    "\n",
    "plt.figure()\n",
    "#set x limits\n",
    "plt.xlim((0, 2))\n",
    "plt.ylim((0, 3))\n",
    "\n",
    "# set new sticks\n",
    "new_sticks = np.linspace(0, 2, 5)\n",
    "plt.xticks(new_sticks)\n",
    "# set tick labels\n",
    "plt.yticks(np.arange(0, 4, step=1))\n",
    "\n",
    "# set line styles\n",
    "l1, = plt.plot(x, y, color='red', linewidth=1.0, linestyle='--', label='f(x)= x^2')\n",
    "plt.legend(loc='upper left')\n",
    "\n",
    "x1=[0.5,1.0,1.5,2.0]\n",
    "y1=np.power(x1,2)\n",
    "plt.bar(x1, y1, align='edge', width=1,color='blue',edgecolor='black')\n",
    "\n",
    "plt.show()"
   ]
  },
  {
   "cell_type": "code",
   "execution_count": 13,
   "metadata": {},
   "outputs": [
    {
     "data": {
      "text/plain": [
       "([0.5, 1.0, 1.5, 2.0], array([0.25, 1.  , 2.25, 4.  ]))"
      ]
     },
     "execution_count": 13,
     "metadata": {},
     "output_type": "execute_result"
    }
   ],
   "source": [
    "x1,y1"
   ]
  },
  {
   "cell_type": "code",
   "execution_count": 14,
   "metadata": {
    "scrolled": true
   },
   "outputs": [
    {
     "data": {
      "image/png": "[encoded data removed]",
      "text/plain": [
       "<matplotlib.figure.Figure at 0x81a3ef0>"
      ]
     },
     "metadata": {},
     "output_type": "display_data"
    }
   ],
   "source": [
    "import numpy as np\n",
    "import matplotlib.pyplot as plt\n",
    "x = np.linspace(-3, 3, 50)\n",
    "y = x**2\n",
    "\n",
    "plt.figure()\n",
    "#set x limits\n",
    "plt.xlim((0, 2))\n",
    "plt.ylim((0, 3))\n",
    "\n",
    "# set new sticks\n",
    "new_sticks = np.linspace(0, 2, 5)\n",
    "plt.xticks(new_sticks)\n",
    "# set tick labels\n",
    "plt.yticks(np.arange(0, 4, step=1))\n",
    "\n",
    "# set line styles\n",
    "l1, = plt.plot(x, y, color='red', linewidth=1.0, linestyle='--', label='f(x)= x^2')\n",
    "plt.legend(loc='upper left')\n",
    "\n",
    "x1=[0,0.5,1.0,1.5]\n",
    "x2=[0.5,1.0,1.5,2]\n",
    "y1=np.power(x2,2)\n",
    "plt.bar(x1, y1, align='edge', width=1,color='blue',edgecolor='black')\n",
    "\n",
    "plt.show()"
   ]
  },
  {
   "cell_type": "code",
   "execution_count": 15,
   "metadata": {},
   "outputs": [
    {
     "data": {
      "text/plain": [
       "([0, 0.5, 1.0, 1.5], array([0.25, 1.  , 2.25, 4.  ]))"
      ]
     },
     "execution_count": 15,
     "metadata": {},
     "output_type": "execute_result"
    }
   ],
   "source": [
    "x1,y1"
   ]
  },
  {
   "cell_type": "code",
   "execution_count": 16,
   "metadata": {},
   "outputs": [
    {
     "data": {
      "image/png": "[encoded data removed]",
      "text/plain": [
       "<matplotlib.figure.Figure at 0x82fcb38>"
      ]
     },
     "metadata": {},
     "output_type": "display_data"
    }
   ],
   "source": [
    "import numpy as np\n",
    "import matplotlib.pyplot as plt\n",
    "x = np.linspace(-3, 3, 50)\n",
    "y = x**2\n",
    "\n",
    "plt.figure()\n",
    "#set x limits\n",
    "plt.xlim((0, 2))\n",
    "plt.ylim((0, 3))\n",
    "\n",
    "# set new sticks\n",
    "new_sticks = np.linspace(0, 2, 5)\n",
    "plt.xticks(new_sticks)\n",
    "# set tick labels\n",
    "plt.yticks(np.arange(0, 4, step=1))\n",
    "\n",
    "# set line styles\n",
    "l1, = plt.plot(x, y, color='red', linewidth=1.0, linestyle='--', label='f(x)= x^2')\n",
    "plt.legend(loc='upper left')\n",
    "\n",
    "x1=[0,0.5,1.0,1.5]\n",
    "x2=[0.25,0.75,1.25,1.75]\n",
    "y1=np.power(x2,2)\n",
    "plt.bar(x1, y1, align='edge', width=1,color='blue',edgecolor='black')\n",
    "\n",
    "plt.show()"
   ]
  },
  {
   "cell_type": "markdown",
   "metadata": {},
   "source": [
    "$$ S=\\sum _{i=0}^{3}f(x_{i}^{2})\\,\\Delta x_{i}=\\Delta x_{i}[f(a)+f(a+\\Delta x)+f(a+2\\Delta x)+f(a+3\\Delta x)] $$"
   ]
  },
  {
   "cell_type": "code",
   "execution_count": 17,
   "metadata": {
    "scrolled": true
   },
   "outputs": [
    {
     "data": {
      "text/plain": [
       "array([0. , 0.5, 1. , 1.5])"
      ]
     },
     "execution_count": 17,
     "metadata": {},
     "output_type": "execute_result"
    }
   ],
   "source": [
    "# Left\n",
    "import numpy as np\n",
    "a=0\n",
    "b=2\n",
    "n=4.0\n",
    "deltax=(b-a)/n\n",
    "deltax\n",
    "# evenly sampled time at delta x intervals\n",
    "x = np.arange(a, b, deltax)\n",
    "#x = np.linspace(a, b, n+1)\n",
    "x"
   ]
  },
  {
   "cell_type": "code",
   "execution_count": 18,
   "metadata": {},
   "outputs": [
    {
     "data": {
      "text/plain": [
       "1.75"
      ]
     },
     "execution_count": 18,
     "metadata": {},
     "output_type": "execute_result"
    }
   ],
   "source": [
    "y1=x**2\n",
    "# left riemann sum\n",
    "deltax*np.sum(y1)"
   ]
  },
  {
   "cell_type": "markdown",
   "metadata": {},
   "source": [
    "$$ S=\\sum _{i=1}^{4}f(x_{i}^{2})\\,\\Delta x_{i}=\\Delta x_{i}[f(a+\\Delta x)+f(a+2\\Delta x)+f(a+3\\Delta x)+f(a+4\\Delta x)] $$"
   ]
  },
  {
   "cell_type": "code",
   "execution_count": 19,
   "metadata": {},
   "outputs": [
    {
     "data": {
      "text/plain": [
       "array([0.5, 1. , 1.5, 2. ])"
      ]
     },
     "execution_count": 19,
     "metadata": {},
     "output_type": "execute_result"
    }
   ],
   "source": [
    "# Right\n",
    "import numpy as np\n",
    "a=0\n",
    "b=2\n",
    "n=4.0\n",
    "deltax=(b-a)/n\n",
    "deltax\n",
    "# evenly sampled time at delta x intervals\n",
    "x = np.arange(deltax, b+deltax, deltax)\n",
    "#x = np.linspace(a, b, n+1)\n",
    "x"
   ]
  },
  {
   "cell_type": "code",
   "execution_count": 20,
   "metadata": {},
   "outputs": [
    {
     "data": {
      "text/plain": [
       "3.75"
      ]
     },
     "execution_count": 20,
     "metadata": {},
     "output_type": "execute_result"
    }
   ],
   "source": [
    "y1=x**2\n",
    "# Right riemann sum\n",
    "deltax*np.sum(y1)"
   ]
  },
  {
   "cell_type": "markdown",
   "metadata": {},
   "source": [
    "$$\\Delta x_{i}[f(a+\\Delta x/2)+f(a+3\\Delta x/2)+f(a+5\\Delta x/2)+f(a+7\\Delta x/2)] $$"
   ]
  },
  {
   "cell_type": "code",
   "execution_count": 21,
   "metadata": {},
   "outputs": [
    {
     "data": {
      "text/plain": [
       "array([0.25, 0.75, 1.25, 1.75])"
      ]
     },
     "execution_count": 21,
     "metadata": {},
     "output_type": "execute_result"
    }
   ],
   "source": [
    "# Mid\n",
    "import numpy as np\n",
    "a=0\n",
    "b=2\n",
    "n=4.0\n",
    "deltax=(b-a)/n\n",
    "deltax\n",
    "# evenly sampled time at delta x intervals\n",
    "x = np.arange(deltax/2, b, deltax)\n",
    "#x = np.linspace(a, b, n+1)\n",
    "x"
   ]
  },
  {
   "cell_type": "code",
   "execution_count": 22,
   "metadata": {},
   "outputs": [
    {
     "data": {
      "text/plain": [
       "2.625"
      ]
     },
     "execution_count": 22,
     "metadata": {},
     "output_type": "execute_result"
    }
   ],
   "source": [
    "y1=x**2\n",
    "# Right riemann sum\n",
    "deltax*np.sum(y1)"
   ]
  },
  {
   "cell_type": "code",
   "execution_count": null,
   "metadata": {},
   "outputs": [],
   "source": []
  },
  {
   "cell_type": "code",
   "execution_count": null,
   "metadata": {},
   "outputs": [],
   "source": []
  }
 ],
 "metadata": {
  "kernelspec": {
   "display_name": "Python 2",
   "language": "python",
   "name": "python2"
  },
  "language_info": {
   "codemirror_mode": {
    "name": "ipython",
    "version": 2
   },
   "file_extension": ".py",
   "mimetype": "text/x-python",
   "name": "python",
   "nbconvert_exporter": "python",
   "pygments_lexer": "ipython2",
   "version": "2.7.14"
  }
 },
 "nbformat": 4,
 "nbformat_minor": 2
}
