{
  "nbformat": 4,
  "nbformat_minor": 0,
  "metadata": {
    "colab": {
      "name": "tensorflow_gd.ipynb",
      "version": "0.3.2",
      "provenance": [],
      "collapsed_sections": []
    },
    "kernelspec": {
      "display_name": "Python 3",
      "language": "python",
      "name": "python3"
    }
  },
  "cells": [
    {
      "metadata": {
        "colab_type": "code",
        "id": "17crFEZ-_2XP",
        "colab": {}
      },
      "cell_type": "code",
      "source": [
        "# 1.1 Import tensorflow and other libraries.\n",
        "import tensorflow as tf\n",
        "import numpy as np\n",
        "\n",
        "%matplotlib inline\n",
        "import pylab\n",
        "# Create Variables x that compute \n",
        "y = tf.Variable(tf.random_uniform([1], 0.0, 5.0))\n",
        "\n",
        "def my_function(y):\n",
        "   return 10000000000.0-y*(14-2*y)*(10-2*y)\n",
        "  \n",
        "# x=np.linspace(0.0, 30.0, num=10000)\n",
        "# pylab.plot(x, my_function(x), '.')\n",
        "\n"
      ],
      "execution_count": 0,
      "outputs": []
    },
    {
      "metadata": {
        "colab_type": "code",
        "id": "X9EuZYsiJq_r",
        "outputId": "5363a049-8c4c-4fc8-8a9b-e6801a888407",
        "colab": {
          "base_uri": "https://localhost:8080/",
          "height": 91
        }
      },
      "cell_type": "code",
      "source": [
        "# 1.4 Build training graph.\n",
        "loss = my_function(y)  # Create an operation that calculates loss.\n",
        "optimizer = tf.train.GradientDescentOptimizer(0.0001)  # Create an optimizer.\n",
        "train = optimizer.minimize(loss)  # Create an operation that minimizes loss.\n",
        "init = tf.initialize_all_variables()  # Create an operation initializes all the variables.\n",
        "\n",
        "sess = tf.Session()\n",
        "sess.run(init)\n",
        "\n"
      ],
      "execution_count": 2,
      "outputs": [
        {
          "output_type": "stream",
          "text": [
            "WARNING:tensorflow:From /usr/local/lib/python3.6/dist-packages/tensorflow/python/util/tf_should_use.py:189: initialize_all_variables (from tensorflow.python.ops.variables) is deprecated and will be removed after 2017-03-02.\n",
            "Instructions for updating:\n",
            "Use `tf.global_variables_initializer` instead.\n"
          ],
          "name": "stdout"
        }
      ]
    },
    {
      "metadata": {
        "colab_type": "code",
        "id": "hpSY8J8-J05A",
        "outputId": "630dfc3e-f809-4143-f8d5-c17a1ae70ce2",
        "colab": {
          "base_uri": "https://localhost:8080/",
          "height": 35
        }
      },
      "cell_type": "code",
      "source": [
        "for step in range(100000):\n",
        "    sess.run(train)\n",
        "    # Uncomment the following two lines to watch training happen real time.\n",
        "    # if step % 20 == 0:\n",
        "    #    print(step, sess.run([W, b]))\n",
        "\n",
        "print(sess.run([y]))"
      ],
      "execution_count": 3,
      "outputs": [
        {
          "output_type": "stream",
          "text": [
            "[array([1.9183459], dtype=float32)]\n"
          ],
          "name": "stdout"
        }
      ]
    },
    {
      "metadata": {
        "id": "j-PZFXTzhQLB",
        "colab_type": "code",
        "colab": {
          "base_uri": "https://localhost:8080/",
          "height": 35
        },
        "outputId": "e8fbbeae-11f8-4c62-816b-18a7076261ef"
      },
      "cell_type": "code",
      "source": [
        "sess.run([140*y-48*y*y+4*y*y*y])"
      ],
      "execution_count": 6,
      "outputs": [
        {
          "output_type": "execute_result",
          "data": {
            "text/plain": [
              "[array([120.164406], dtype=float32)]"
            ]
          },
          "metadata": {
            "tags": []
          },
          "execution_count": 6
        }
      ]
    },
    {
      "metadata": {
        "id": "WCPhOr9AhQLE",
        "colab_type": "code",
        "colab": {}
      },
      "cell_type": "code",
      "source": [
        ""
      ],
      "execution_count": 0,
      "outputs": []
    }
  ]
}